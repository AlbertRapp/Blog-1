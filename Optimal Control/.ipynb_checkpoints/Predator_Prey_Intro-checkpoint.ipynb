{
 "cells": [
  {
   "cell_type": "markdown",
   "id": "2c48ac21",
   "metadata": {},
   "source": [
    "# An Introduction to Optimal Control and the Pontryagin Principle"
   ]
  },
  {
   "cell_type": "markdown",
   "id": "541c14b5",
   "metadata": {},
   "source": [
    "This article aims to introduce the basics of *Optimal Control Theory* by discussing the Lotka-Volterra model, also known as the predator-prey model. The model in its original form describes the interaction between two species namely, predator and prey. Predatory populations can only grow if there is enough prey, so while there is a sufficient supply in prey the predators can grow in numbers. However, an increasing number in predators also leads to a decline in prey, since they might not be able to reproduce fast enough. The dynamics of the model can be represented as a system of non-linear first order differential equations given by\n",
    "\\begin{align*}\n",
    "&\\frac{\\partial}{\\partial t} x_1(t) = \\alpha x_1(t) - \\beta x_1(t)x_2(t),\\\\\n",
    "&\\frac{\\partial}{\\partial t} x_2(t) = \\delta x_1(t)x_2(t) - \\gamma x_2(t)\\\\\n",
    "&\\text{with initial conditions}\\\\\n",
    "&x_1(0) = a, \\quad x_2(0) = b,\\quad a,b\\in [0,1],\n",
    "\\end{align*}\n",
    "and $\\alpha,\\beta,\\delta,\\gamma \\in (0,\\infty)$.\n",
    "Here, $\\frac{\\partial}{\\partial t}x_1(t)$ can be interpreted as the change in the prey population at time $t$ and $\\frac{\\partial}{\\partial t} x_2(t)$ as the change in the predator population at time $t$, for some $t\\in [0,T], T>0$. The positive parameters $\\alpha,\\beta,\\delta,\\gamma$ describe the interaction between the two species.\n",
    "In the following we will consider the explicit model\n",
    "\\begin{align*}\n",
    "&\\frac{\\partial}{\\partial t} x_1(t) = x_1(t) - x_1(t)x_2(t) - 0.4x_1(t),\\\\\n",
    "&\\frac{\\partial}{\\partial t} x_2(t) = - x_2(t) + x_1(t)x_2(t) - 0.2x_2(t) \\\\\n",
    "&\\text{with initial conditions}\\\\\n",
    "&x_1(0) = a, \\quad x_2(0) = b,\\quad a,b\\in [0,1],\n",
    "\\end{align*}\n",
    "i.e., $\\alpha = 0.6, \\beta = \\delta = 1, \\gamma = 1.2$ and $T = 12$. In order to give an intuition of how this system behaves depending on the initial population values, check out the following interactive plot."
   ]
  },
  {
   "cell_type": "code",
   "execution_count": 1,
   "id": "01d7bb8c",
   "metadata": {},
   "outputs": [],
   "source": [
    "import numpy as np\n",
    "from scipy.integrate import solve_ivp\n",
    "import matplotlib.pyplot as plt\n",
    "from ipywidgets import interact, widgets, Layout\n",
    "%matplotlib inline"
   ]
  },
  {
   "cell_type": "code",
   "execution_count": 2,
   "id": "9fe85e13",
   "metadata": {},
   "outputs": [
    {
     "data": {
      "application/vnd.jupyter.widget-view+json": {
       "model_id": "78c8bfc7d97e4c1c9631ff77520cb2b8",
       "version_major": 2,
       "version_minor": 0
      },
      "text/plain": [
       "interactive(children=(FloatSlider(value=0.5, description='Initial Prey Population', layout=Layout(width='400px…"
      ]
     },
     "metadata": {},
     "output_type": "display_data"
    }
   ],
   "source": [
    "def model(x):\n",
    "    return np.array([x[0]-x[0]*x[1]-0.4*x[0],\n",
    "                     -x[1]+x[0]*x[1]-0.2*x[1]])\n",
    "def plot_pp(a,b):\n",
    "    t0 = 0\n",
    "    tmax = 12\n",
    "    sol = solve_ivp(lambda t, x:model(x), [t0, tmax], np.array([a,b]), t_eval=np.linspace(t0, tmax, 100))\n",
    "    plt.subplot(1,2,1)\n",
    "    plt.plot(sol.t,sol.y[0], label = 'Prey')\n",
    "    plt.plot(sol.t,sol.y[1], label = 'Predator')\n",
    "    plt.xlabel(\"time\")\n",
    "    plt.ylabel(\"population\")\n",
    "    plt.title(\"Solution of the ODE system\")\n",
    "    plt.legend()\n",
    "    plt.subplot(1,2,2)\n",
    "    plt.plot(sol.y[1],sol.y[0], label = 'Prey', color = \"r\")\n",
    "    plt.rcParams[\"figure.figsize\"]=10,5\n",
    "    plt.title(\"Phase portrait of the solution\")\n",
    "    plt.xlabel(\"predator population\")\n",
    "    plt.ylabel(\"prey population\")\n",
    "\n",
    "style = {'description_width': 'initial'}\n",
    "layout = Layout(width = \"400px\")\n",
    "slid1 = widgets.FloatSlider(description = 'Initial Prey Population',min=0, max=1, step=0.1, value=0.5,style = style, layout = layout)\n",
    "slid2 = widgets.FloatSlider(description = 'Initial Predator Population',min=0, max=1, step=0.1, value=0.7, style = style, layout = layout)\n",
    "interact(plot_pp, a= slid1 ,b=slid2);\n"
   ]
  },
  {
   "cell_type": "markdown",
   "id": "ae209fe0",
   "metadata": {},
   "source": [
    "Recall that the goal is to stabilize both populations over time and eventually have both populations approaching the same value. Given the evolution of the model, the idea is to introduce some sort of control function that either additionally increases or decreases the population evolution in order achieve the goal. In our given model we can incorporate such a function as follows.\n",
    "\\begin{align*}\n",
    "&\\frac{\\partial}{\\partial t} x_1(t) = x_1(t) - x_1(t)x_2(t) - 0.4u(t)x_1(t),\\\\\n",
    "&\\frac{\\partial}{\\partial t} x_2(t) = - x_2(t) + x_1(t)x_2(t) - 0.2u(t)x_2(t) \\\\\n",
    "&\\text{with initial conditions}\\\\\n",
    "&x_1(0) = a, \\quad x_2(0) = b,\\quad a,b\\in [0,1],\\\\\n",
    "&\\text{and control function }\\\\\n",
    "&u:[0,12]\\to[0,1]\n",
    "\\end{align*}\n",
    "The function $u$ taking values between $0$ and $1$ is potentially decreasing the population decline of both, predators and prey."
   ]
  },
  {
   "cell_type": "markdown",
   "id": "f8408acf",
   "metadata": {},
   "source": [
    "How does a function $u:[0,12]\\to[0,1]$ actually influence the system? Let us consider an example:\n",
    "Choose\n",
    "\\begin{equation*}\n",
    " u(t) = \\begin{cases}\n",
    "            0, \\quad &\\text{ if } t\\in [0,2],\\\\\n",
    "            1, \\quad &\\text{ if } t\\in (2,4.5],\\\\\n",
    "            0.5, \\quad &\\text{ if } t\\in (4.5,7.5],\\\\\n",
    "            0, \\quad &\\text{ if } t\\in (7.5,12].\n",
    "        \\end{cases}\n",
    "\\end{equation*}\n",
    "A visualization of the function $u$ can be found below."
   ]
  },
  {
   "cell_type": "code",
   "execution_count": 4,
   "id": "d93846f3",
   "metadata": {},
   "outputs": [
    {
     "data": {
      "image/png": "[encoded data removed]",
      "text/plain": [
       "<Figure size 500x500 with 1 Axes>"
      ]
     },
     "metadata": {},
     "output_type": "display_data"
    }
   ],
   "source": [
    "def u(t):\n",
    "    if 0<= t <= 2:\n",
    "        return 0\n",
    "    elif 2< t <= 4.5:\n",
    "        return 1\n",
    "    elif 4.5< t <=7.5:\n",
    "        return 0.5\n",
    "    else:\n",
    "        return 0\n",
    "vu = np.vectorize(u,otypes=[np.float64])\n",
    "t = np.linspace(0,12,100)\n",
    "\n",
    "plt.plot(t,vu(t), label = 'u(t)')\n",
    "plt.xlabel(\"time\")\n",
    "plt.ylabel(\"control value\")\n",
    "plt.title(\"control function\")\n",
    "plt.rcParams[\"figure.figsize\"]=5,5\n",
    "plt.legend();"
   ]
  },
  {
   "cell_type": "markdown",
   "id": "f7c31b59",
   "metadata": {},
   "source": [
    "The control function above is therefore decreasing the population decline whenever it takes a value in $[0,1)$ and not changing the dynamics if it takes the value $1$. The adapted system can be solved in the same fashion as before which results in different solutions depending on the starting value."
   ]
  },
  {
   "cell_type": "code",
   "execution_count": 6,
   "id": "a55d2675",
   "metadata": {},
   "outputs": [
    {
     "data": {
      "application/vnd.jupyter.widget-view+json": {
       "model_id": "40d71e0da37b483a91688795eb876f29",
       "version_major": 2,
       "version_minor": 0
      },
      "text/plain": [
       "interactive(children=(FloatSlider(value=0.5, description='Initial Prey Population', layout=Layout(width='400px…"
      ]
     },
     "metadata": {},
     "output_type": "display_data"
    }
   ],
   "source": [
    "def model_control_ex(t,x):\n",
    "    return np.array([x[0]-x[0]*x[1]-0.4*x[0]*u(t), -x[1]+x[0]*x[1]-0.2*x[1]*u(t)])\n",
    "def plot_pp(a,b):\n",
    "    t0 = 0\n",
    "    tmax = 12\n",
    "    sol = solve_ivp(lambda t, x:model_control_ex(t,x), [t0, tmax], np.array([a,b]), t_eval=np.linspace(t0, tmax, 100))\n",
    "    plt.subplot(1,2,1)\n",
    "    plt.plot(sol.t,sol.y[0], label = 'Prey')\n",
    "    plt.plot(sol.t,sol.y[1], label = 'Predator')\n",
    "    plt.xlabel(\"time\")\n",
    "    plt.ylabel(\"population\")\n",
    "    plt.title(\"Solution of the ODE system\")\n",
    "    plt.legend()\n",
    "    plt.subplot(1,2,2)\n",
    "    plt.plot(sol.y[1],sol.y[0], label = 'Prey', color = \"r\")\n",
    "    plt.rcParams[\"figure.figsize\"]=10,5\n",
    "    plt.title(\"Phase portrait of the solution\")\n",
    "    plt.xlabel(\"predator population\")\n",
    "    plt.ylabel(\"prey population\")\n",
    "\n",
    "style = {'description_width': 'initial'}\n",
    "layout = Layout(width = \"400px\")\n",
    "slid1 = widgets.FloatSlider(description = 'Initial Prey Population',min=0, max=1, step=0.1, value=0.5,style = style, layout = layout)\n",
    "slid2 = widgets.FloatSlider(description = 'Initial Predator Population',min=0, max=1, step=0.1, value=0.7, style = style, layout = layout)\n",
    "interact(plot_pp, a= slid1 ,b=slid2);"
   ]
  },
  {
   "cell_type": "markdown",
   "id": "83188eb9",
   "metadata": {},
   "source": [
    "This explicit function $u$ is not quite satisfactory in terms of controlling the population, as both populations are far from equal at terminal time $T=12$. This is due to the fact that $u$ was chosen arbitrary without further constraints. In order to achieve this desired behaviors we have to pass additional restrictions on the control function and formulate an optimization problem. A first restriction is the introduction of a so-called cost function $F$ taking values in $[0,\\infty)$ depending on\n",
    " $x_1$ and $x_2$. This cost function increases if the solution of the system strays further away from the values we want it to take.\n",
    "One possible cost function is given by\n",
    "\\begin{equation*}\n",
    "    F(x_1,x_2) := \\int_0^{12} \\|\\left(x_1(t),x_2(t)\\right)^\\top- \\left(y_0,y_0\\right)^\\top\\|_2^2\\: \\mathrm{d}t,\n",
    "\\end{equation*}\n",
    "where $y_0\\in[0,1]$. If we desire for both populations to approach the value $y_0$ we need to minimize the function $F$ with respect to $u$\n",
    "while also solving the initial value problem we previously established.\n",
    "Approach can be formalized as follows.\n",
    "\\begin{align*}\n",
    "    \\min_{u}\\;\\ &\\int\\limits_0^{12} (x_1(t)-y_0)^2+(x_2(t)-y_0)^2\\,\\mathrm{d}t\\\\\n",
    "    \\text{s.t.}&\\\\\n",
    "    &\\dot x_1(t) = x_1(t) - x_1(t)x_2(t) - 0.4x_1(t)u(t),\\\\\n",
    "    &\\dot x_2(t) = -x_2(t) + x_1(t)x_2(t) - 0.2x_1(t)u(t)\\\\\n",
    "    &\\text{with initial conditions}\\\\\n",
    "    &x_1(0)= a, \\quad x_2(0)= b\\\\\n",
    "    &\\text{and control conditions}\\\\\n",
    "    &u(t)\\in [0,1]\\quad \\forall\\,t \\in [0,12].\n",
    "\\end{align*}"
   ]
  },
  {
   "cell_type": "markdown",
   "id": "5234b660",
   "metadata": {},
   "source": [
    "There are a number of different methods for solving the problem above. One rather simple approach we can choose is to modify the optimization problem in a way that the cost function is treated as an additional variable to our system.\n",
    "Define $x_3(t) := F(x_1(t),x_2(t))$, then as a results we obtain an equivalent optimization problem\n",
    "\\begin{align*}\n",
    " \\min_{u}\\;\\ &x_3(t)\\\\\n",
    "    \\text{s.t.}&\\\\\n",
    "    &\\dot x_1(t) = x_1(t) - x_1(t)x_2(t) - 0.4x_1(t)u(t),\\\\\n",
    "    &\\dot x_2(t) = -x_2(t) + x_1(t)x_2(t) - 0.2x_1(t)u(t)\\\\\n",
    "    &\\dot x_3(t) = (x_1(t)-y_0)^2+(x_2(t)-y_0)^2\\\\\n",
    "    &\\text{with boundary conditions}\\\\\n",
    "    &x_1(0)= a, \\quad x_2(0)= b,\\quad x_3(0) = 0,\\\\\n",
    "    &x_1(12)= y_0, \\quad x_2(12)= y_0,\\quad x_3(12) = 0,\\\\\n",
    "    &\\text{and control conditions}\\\\\n",
    "    &u(t)\\in [0,1]\\quad \\forall\\,t \\in [0,12].\n",
    "\\end{align*}\n",
    "Optimization problems of this nature can be solved in python by using the `gekko` package."
   ]
  },
  {
   "cell_type": "code",
   "execution_count": 7,
   "id": "1d4f61fa",
   "metadata": {},
   "outputs": [],
   "source": [
    "from gekko import GEKKO"
   ]
  },
  {
   "cell_type": "code",
   "execution_count": 8,
   "id": "ee91c7be",
   "metadata": {},
   "outputs": [],
   "source": [
    "m = GEKKO(remote = False)\n",
    "n = 100\n",
    "T = 12\n",
    "m.time = np.linspace(0,T,n)\n",
    "a = 0.2; b=0.5; y0 = 1\n",
    "\n",
    "x1 = m.Var(value = a)\n",
    "x2 = m.Var(value = b)\n",
    "x3 = m.Var(value = (a-y0)**2 + (b-y0)**2)\n",
    "u = m.Var(value = 0, lb = -1, ub = 1)\n",
    "p = np.zeros(n)\n",
    "p[-1] = T\n",
    "final = m.Param(value = p)\n",
    "\n",
    "m.Equation(x1.dt()==x1-x1*x2-0.4*x1*u)\n",
    "m.Equation(x2.dt()==-x2+x1*x2-0.2*x1*u)\n",
    "m.Equation(x3.dt()==(x1-y0)**2+(x2-y0)**2)\n",
    "\n",
    "m.Obj(x3)\n",
    "m.options.IMODE = 6 # optimal control mode"
   ]
  },
  {
   "cell_type": "code",
   "execution_count": 9,
   "id": "0ed624c9",
   "metadata": {
    "scrolled": false
   },
   "outputs": [
    {
     "data": {
      "application/vnd.jupyter.widget-view+json": {
       "model_id": "5b46b35fc1f3472da8dd91a0fccf343c",
       "version_major": 2,
       "version_minor": 0
      },
      "text/plain": [
       "interactive(children=(FloatSlider(value=0.5, description='Initial Prey Population $a$', layout=Layout(width='4…"
      ]
     },
     "metadata": {},
     "output_type": "display_data"
    }
   ],
   "source": [
    "def plot_pp(a,b):\n",
    "    m = GEKKO(remote = True)\n",
    "    n = 100\n",
    "    T = 12\n",
    "    m.time = np.linspace(0,T,n)\n",
    "    y0 = 1\n",
    "\n",
    "    x1 = m.Var(value = a)\n",
    "    x2 = m.Var(value = b)\n",
    "    x3 = m.Var(value = (a-y0)**2 + (b-y0)**2)\n",
    "    u = m.Var(value = 0, lb = 0, ub = 1)\n",
    "    p = np.zeros(n)\n",
    "    p[-1] = T\n",
    "\n",
    "    m.Equation(x1.dt()==x1-x1*x2-0.4*x1*u)\n",
    "    m.Equation(x2.dt()==-x2+x1*x2-0.2*x1*u)\n",
    "    m.Equation(x3.dt()==(x1-y0)**2+(x2-y0)**2)\n",
    "\n",
    "    m.Obj(x3)\n",
    "    m.options.IMODE = 6 # optimal control mode\n",
    "    \n",
    "    m.solve(disp=False)\n",
    "    plt.subplot(1,2,1)\n",
    "    plt.plot(m.time,x1.value, label = 'Prey')\n",
    "    plt.plot(m.time,x2.value, label = 'Predator')\n",
    "    plt.xlabel(\"time\")\n",
    "    plt.ylabel(\"population\")\n",
    "    plt.title(\"Solution to the control problem with $y_0$ =%.1f\" %y0)\n",
    "    plt.legend()\n",
    "    plt.subplot(1,2,2)\n",
    "    plt.plot(m.time,u.value, color = \"r\")\n",
    "    plt.rcParams[\"figure.figsize\"]=10,5\n",
    "    plt.title(\"Control function values\")\n",
    "    plt.xlabel(\"time\")\n",
    "    plt.ylabel(\"control value\")\n",
    "\n",
    "style = {'description_width': 'initial'}\n",
    "layout = Layout(width = \"400px\")\n",
    "slid1 = widgets.FloatSlider(description = 'Initial Prey Population $a$',min=0.4, max=0.8, step=0.05, value=0.5,style = style, layout = layout)\n",
    "slid2 = widgets.FloatSlider(description = 'Initial Predator Population $b$',min=0.4, max=0.8, step=0.05, value=0.5, style = style, layout = layout)\n",
    "interact(plot_pp, a= slid1 ,b=slid2);\n"
   ]
  },
  {
   "cell_type": "code",
   "execution_count": null,
   "id": "7d893c9e",
   "metadata": {},
   "outputs": [],
   "source": []
  }
 ],
 "metadata": {
  "kernelspec": {
   "display_name": "PyCharm (PredPrey_Python)",
   "language": "python",
   "name": "pycharm-34e9038b"
  },
  "language_info": {
   "codemirror_mode": {
    "name": "ipython",
    "version": 3
   },
   "file_extension": ".py",
   "mimetype": "text/x-python",
   "name": "python",
   "nbconvert_exporter": "python",
   "pygments_lexer": "ipython3",
   "version": "3.8.15"
  }
 },
 "nbformat": 4,
 "nbformat_minor": 5
}

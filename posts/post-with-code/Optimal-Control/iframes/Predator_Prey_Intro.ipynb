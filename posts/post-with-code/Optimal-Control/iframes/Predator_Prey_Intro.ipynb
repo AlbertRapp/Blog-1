{
 "cells": [
  {
   "cell_type": "raw",
   "source": [
    "---\n",
    "title: \"An Introduction to Optimal Control\"\n",
    "format:\n",
    "    html:\n",
    "        code-fold: true\n",
    "jupyter: python3\n",
    "---"
   ],
   "metadata": {
    "collapsed": false
   }
  },
  {
   "cell_type": "code",
   "execution_count": 2,
   "id": "01d7bb8c",
   "metadata": {},
   "outputs": [],
   "source": [
    "import numpy as np\n",
    "from scipy.integrate import solve_ivp\n",
    "import matplotlib.pyplot as plt\n",
    "from ipywidgets import interact, widgets, Layout\n",
    "%matplotlib inline"
   ]
  },
  {
   "cell_type": "code",
   "execution_count": 3,
   "id": "9fe85e13",
   "metadata": {},
   "outputs": [
    {
     "data": {
      "text/plain": "interactive(children=(FloatSlider(value=0.5, description='Initial Prey Population', layout=Layout(width='400px…",
      "application/vnd.jupyter.widget-view+json": {
       "version_major": 2,
       "version_minor": 0,
       "model_id": "6d3c1cd0e8cb46eab82a5edd85fd5295"
      }
     },
     "metadata": {},
     "output_type": "display_data"
    }
   ],
   "source": [
    "def model(x):\n",
    "    return np.array([x[0]-x[0]*x[1]-0.4*x[0],\n",
    "                     -x[1]+x[0]*x[1]-0.2*x[1]])\n",
    "def plot_pp(a,b):\n",
    "    t0 = 0\n",
    "    tmax = 12\n",
    "    sol = solve_ivp(lambda t, x:model(x), [t0, tmax], np.array([a,b]), t_eval=np.linspace(t0, tmax, 100))\n",
    "    plt.subplot(1,2,1)\n",
    "    plt.plot(sol.t,sol.y[0], label = 'Prey')\n",
    "    plt.plot(sol.t,sol.y[1], label = 'Predator')\n",
    "    plt.xlabel(\"time\")\n",
    "    plt.ylabel(\"population\")\n",
    "    plt.title(\"Solution of the ODE system\")\n",
    "    plt.legend()\n",
    "    plt.subplot(1,2,2)\n",
    "    plt.plot(sol.y[1],sol.y[0], label = 'Prey', color = \"r\")\n",
    "    plt.rcParams[\"figure.figsize\"]=10,5\n",
    "    plt.title(\"Phase portrait of the solution\")\n",
    "    plt.xlabel(\"predator population\")\n",
    "    plt.ylabel(\"prey population\")\n",
    "\n",
    "style = {'description_width': 'initial'}\n",
    "layout = Layout(width = \"400px\")\n",
    "slid1 = widgets.FloatSlider(description = 'Initial Prey Population',min=0, max=1, step=0.1, value=0.5,style = style, layout = layout)\n",
    "slid2 = widgets.FloatSlider(description = 'Initial Predator Population',min=0, max=1, step=0.1, value=0.7, style = style, layout = layout)\n",
    "interact(plot_pp, a= slid1 ,b=slid2)\n"
   ]
  }
 ],
 "metadata": {
  "kernelspec": {
   "name": "pycharm-34e9038b",
   "language": "python",
   "display_name": "PyCharm (PredPrey_Python)"
  },
  "language_info": {
   "codemirror_mode": {
    "name": "ipython",
    "version": 3
   },
   "file_extension": ".py",
   "mimetype": "text/x-python",
   "name": "python",
   "nbconvert_exporter": "python",
   "pygments_lexer": "ipython3",
   "version": "3.8.10"
  }
 },
 "nbformat": 4,
 "nbformat_minor": 5
}
